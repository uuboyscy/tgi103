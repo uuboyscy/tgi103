{
 "cells": [
  {
   "cell_type": "code",
   "execution_count": 1,
   "id": "3a95923c",
   "metadata": {},
   "outputs": [],
   "source": [
    "import jieba"
   ]
  },
  {
   "cell_type": "code",
   "execution_count": 2,
   "id": "b7afb534",
   "metadata": {},
   "outputs": [
    {
     "name": "stderr",
     "output_type": "stream",
     "text": [
      "Building prefix dict from the default dictionary ...\n",
      "Dumping model to file cache /var/folders/bv/8bbkzq895db366kq27vw262r0000gn/T/jieba.cache\n",
      "Loading model cost 0.793 seconds.\n",
      "Prefix dict has been built successfully.\n"
     ]
    },
    {
     "name": "stdout",
     "output_type": "stream",
     "text": [
      "大家 | 好 | ， | 我 | 叫 | 小 | 賀 | ， | 今天 | 來 | 台北 | 北商 | 業 | 大 | 學 | AI | 大 | 數 | 據 | 班上 | 課 | ， | 覺 | 得 | 非常 | 開 | 心\n",
      "大家 | 好 | ， | 我 | 叫 | 小賀 | ， | 今天 | 來 | 台北 | 商業 | 大學 | AI | 大數據 | 班上 | 課 | ， | 覺得 | 非常 | 開心\n",
      "大家 | 好 | ， | 我 | 叫 | 小賀 | ， | 今天 | 來 | 台北 | 商業 | 大學 | AI | 大數據 | 班上 | 課 | ， | 覺得 | 非常 | 開心\n",
      "大家 | 好 | ， | 我 | 叫 | 小賀 | ， | 今天 | 來 | 台北 | 商業 | 大學 | AI | 大數據 | 班上 | 課 | ， | 覺得 | 非常 | 開心\n"
     ]
    }
   ],
   "source": [
    "s = \"大家好，我叫小賀，今天來台北商業大學AI大數據班上課，覺得非常開心\"\n",
    "\n",
    "s1 = jieba.cut(s, cut_all=True)\n",
    "s2 = jieba.cut(s, cut_all=False)\n",
    "s3 = jieba.cut(s)\n",
    "s4 = jieba.cut_for_search(s)\n",
    "\n",
    "print(\" | \".join(s1))\n",
    "print(\" | \".join(s2))\n",
    "print(\" | \".join(s3))\n",
    "print(\" | \".join(s4))"
   ]
  },
  {
   "cell_type": "code",
   "execution_count": null,
   "id": "579c03e1",
   "metadata": {},
   "outputs": [],
   "source": []
  }
 ],
 "metadata": {
  "kernelspec": {
   "display_name": "Python 3 (ipykernel)",
   "language": "python",
   "name": "python3"
  },
  "language_info": {
   "codemirror_mode": {
    "name": "ipython",
    "version": 3
   },
   "file_extension": ".py",
   "mimetype": "text/x-python",
   "name": "python",
   "nbconvert_exporter": "python",
   "pygments_lexer": "ipython3",
   "version": "3.8.2"
  }
 },
 "nbformat": 4,
 "nbformat_minor": 5
}
